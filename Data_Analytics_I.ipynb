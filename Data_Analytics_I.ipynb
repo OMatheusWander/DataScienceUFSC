{
  "nbformat": 4,
  "nbformat_minor": 0,
  "metadata": {
    "colab": {
      "provenance": [],
      "include_colab_link": true
    },
    "kernelspec": {
      "name": "python3",
      "display_name": "Python 3"
    }
  },
  "cells": [
    {
      "cell_type": "markdown",
      "metadata": {
        "id": "view-in-github",
        "colab_type": "text"
      },
      "source": [
        "<a href=\"https://colab.research.google.com/github/OMatheusWander/DataScienceUFSC/blob/main/Data_Analytics_I.ipynb\" target=\"_parent\"><img src=\"https://colab.research.google.com/assets/colab-badge.svg\" alt=\"Open In Colab\"/></a>"
      ]
    },
    {
      "cell_type": "markdown",
      "metadata": {
        "id": "I-Xp-4gB7V2T"
      },
      "source": [
        "# Introdução à Dados Analíticos\n",
        "\n",
        "## 1) Just to Remember\n",
        "## 2) Verificação de Normalidade\n",
        "## 3) Z-Score\n",
        "## 4) Intervalo de Confiança\n",
        "## 5) Teste a diferença entre dois grupos\n",
        "### 5.1) Teste t\n",
        "### 5.2) Teste não paramétrico wilcoxon-test\n",
        "## 6) ANOVA (Analysis of variance)\n",
        "### 6.1) One-way ANOVA\n",
        "### 6.2) Two-way ANOVA\n",
        "\n",
        "\n"
      ]
    },
    {
      "cell_type": "code",
      "source": [
        "from google.colab import drive\n",
        "drive.mount('/content/drive')"
      ],
      "metadata": {
        "colab": {
          "base_uri": "https://localhost:8080/"
        },
        "id": "BcFaTB_NHtfn",
        "outputId": "e9073958-acbe-4eb4-b71e-dfa735f6990e"
      },
      "execution_count": null,
      "outputs": [
        {
          "output_type": "stream",
          "name": "stdout",
          "text": [
            "Mounted at /content/drive\n"
          ]
        }
      ]
    },
    {
      "cell_type": "markdown",
      "metadata": {
        "id": "fp_hBPiN-jz1"
      },
      "source": [
        "# 1) Just to Remember\n",
        "## Parâmetro, População, Estatística, Amostra\n",
        "\n",
        "### Parâmetro é uma Característica da População (i.e. média)\n",
        "### Estatística é a Característica da Amostra.\n",
        "\n",
        "\n",
        "![alt text](https://image.slidesharecdn.com/aula02-populaoamostraedados-121028115619-phpapp01/95/aula-02-populao-amostra-e-dados-2-638.jpg?cb=1351425435)\n",
        "\n",
        "\n",
        "\n",
        "---\n",
        "\n",
        "\n",
        "## Observação de Dados Quantitativos por BoxPlot\n",
        "\n",
        "![alt text](https://d2mvzyuse3lwjc.cloudfront.net/doc/en/UserGuide/images/Creating_Box_Charts/Creating_Box_Charts_image871.gif?v=11111)\n",
        "\n",
        "\n",
        "\n",
        "---\n",
        "\n",
        "### Média: somatório de todos os números dividido pela quantidade de números.\n",
        "\n",
        "### Mediana: É o valor médio obtido, depois de organizar os valores em modo acendente. (mais imune a outliers). Exemplo:  {1, 3, 3, 6, 7, 8, 9}, a mediana é 6. Para o conjunto {3, 5, 7, 9}, na qual há um numero par de valores, a mediana é a média dos valores do meio: (5+7)/2 = 6.\n",
        "\n",
        "### Moda: o número mais comum.\n",
        "\n",
        "\n",
        "### Exemplo da maior imunidade a outliers:\n",
        "\n",
        "### Considere os salários: 25k, 27k, 29k, 35k, 37k:\n",
        "### Média: 30,6\n",
        "### Mediana: 29\n",
        "\n",
        "### Agora considere o dono da empresa junto aos salários dos funcionários: 25k, 27k, 29k, 35k, 37k, 10M\n",
        "### Média: 230,6K\n",
        "### Mediana: 32K\n",
        "\n",
        "\n",
        "---\n",
        "## Medidas de Variação:\n",
        "\n",
        "###  Desvio padrão: é medida de dispersão dos dados em relação à média, ou seja, a distância que cada indivíduo da amostra está em relação à média da amostra.\n",
        "\n",
        "###  Erro Padrão: Estima quão preciso é a estimativa da média, isto é, quão longe a média da amostra está em relação à média da população.\n",
        "\n",
        "###  Interqualite Range (IRQ): é uma medida de dispersão estatística, sendo igual à diferença entre os percentis 75 e 25.\n"
      ]
    },
    {
      "cell_type": "markdown",
      "metadata": {
        "id": "5U-cxejkFsfA"
      },
      "source": [
        "# Dados Normalmente Distribuídos\n",
        "\n",
        "![alt text](https://www.inf.ufsc.br/~andre.zibetti/probabilidade/figures/normal.PNG)"
      ]
    },
    {
      "cell_type": "markdown",
      "metadata": {
        "id": "IxyGPAXLIHDl"
      },
      "source": [
        "# 2) Verificação de Normalidade\n",
        "\n",
        "### Verificação de Normalidade com teste de Shapiro-Wilks\n",
        "#### Teste para normalidade\n",
        "#### H0: Os dados são normalmente distribuídos\n",
        "#### Aceitar H0 é p_valor > 0,05\n",
        "\n",
        "## API:\n",
        "\n",
        "\n",
        "\n",
        "```\n",
        "import scipy\n",
        "shapiro_results = scipy.stats.shapiro(variavel)\n",
        "print(shapiro_results)\n",
        "```\n",
        "### O resultado dispoe dois valores, **valor W**, valor de **teste Shapiro** e o** p_valor**.\n",
        "#### Se **W = 1**, os dados são **normais**. Se **W < 1**, é necessário verificar o** valor_p**. Se o **valor_p** for menor que **0.05**, nós** rejeitamos a hipótese nula**, sendo assim,  não podemos afirmar que os dados apresentados na variável estão em  distribuição normal!\n",
        "\n"
      ]
    },
    {
      "cell_type": "markdown",
      "metadata": {
        "id": "YWZy3jJh6xIH"
      },
      "source": [
        "## Aplicação do teste de verificação de normalidade\n",
        "## Países da América Latina que Produzem e Consomem Energia Renovável"
      ]
    },
    {
      "cell_type": "code",
      "metadata": {
        "id": "BH1CKuJSLqn0",
        "colab": {
          "base_uri": "https://localhost:8080/"
        },
        "outputId": "eb27cc19-eb48-42df-ff07-956f6086cdf5"
      },
      "source": [
        "from google.colab import drive\n",
        "drive.mount('/content/gdrive')"
      ],
      "execution_count": null,
      "outputs": [
        {
          "output_type": "stream",
          "name": "stdout",
          "text": [
            "Mounted at /content/gdrive\n"
          ]
        }
      ]
    },
    {
      "cell_type": "code",
      "metadata": {
        "id": "9dTGRzJC9KOf"
      },
      "source": [
        "\n",
        "import pandas as pd\n",
        "\n",
        "indicadores =  pd.read_csv('/content/gdrive/MyDrive/Indicators.csv')\n",
        "\n",
        "paises_al = ['ARG', 'BOL', 'BRA', 'CHL', 'COL', 'ECU', 'FLK','GUF', 'GUY', 'PRY', 'PER', 'SUR', 'URY', 'VEN', 'CRI', 'CUB', 'SLV', 'GTM', 'HTI', 'HND', 'MEX', 'NIC', 'PAN', 'DOM']\n"
      ],
      "execution_count": null,
      "outputs": []
    },
    {
      "cell_type": "code",
      "source": [
        "indicadores.columns\n"
      ],
      "metadata": {
        "colab": {
          "base_uri": "https://localhost:8080/"
        },
        "id": "taTHzCnrVKLK",
        "outputId": "403407f9-d177-47c2-9f98-e76e0fa7ba6c"
      },
      "execution_count": null,
      "outputs": [
        {
          "output_type": "execute_result",
          "data": {
            "text/plain": [
              "Index(['CountryName', 'CountryCode', 'IndicatorName', 'IndicatorCode', 'Year',\n",
              "       'Value'],\n",
              "      dtype='object')"
            ]
          },
          "metadata": {},
          "execution_count": 77
        }
      ]
    },
    {
      "cell_type": "code",
      "source": [
        "prod_energ_renovagel = indicadores[(indicadores['CountryCode'].isin(paises_al)) & (indicadores['IndicatorName'] ==\n",
        "'Renewable electricity output (% of total electricity output)')]\n",
        "prod_energ_renovagel\n",
        "pivot_prod_energ_renov = pd.pivot_table(prod_energ_renovagel, values = 'Value', index=['Year'], columns='CountryName')\n"
      ],
      "metadata": {
        "id": "lQ6E4fRW29_b"
      },
      "execution_count": null,
      "outputs": []
    },
    {
      "cell_type": "code",
      "source": [
        "cons_energ_renovagel = indicadores[(indicadores['CountryCode'].isin(paises_al)) & (indicadores['IndicatorName'] ==\n",
        "'Renewable energy consumption (% of total final energy consumption)')]\n",
        "cons_energ_renovagel\n",
        "pivot_cons_energ_renov = pd.pivot_table(cons_energ_renovagel, values = 'Value', index=['Year'], columns='CountryName')\n"
      ],
      "metadata": {
        "id": "6IgMnP0b2-YB"
      },
      "execution_count": null,
      "outputs": []
    },
    {
      "cell_type": "code",
      "source": [
        "ondedataset =pd.merge(pivot_prod_energ_renov,pivot_cons_energ_renov, left_index=True, right_index=True )\n",
        "ondedataset.boxplot(figsize=(30,22))"
      ],
      "metadata": {
        "id": "5-tqKpvO3FXe"
      },
      "execution_count": null,
      "outputs": []
    },
    {
      "cell_type": "code",
      "source": [
        "prod_energ_renovagel.shape, indicadores.shape"
      ],
      "metadata": {
        "colab": {
          "base_uri": "https://localhost:8080/"
        },
        "id": "osnOiMEUBS9Q",
        "outputId": "c4144ca7-088d-40a9-9485-c952e9c31ae0"
      },
      "execution_count": null,
      "outputs": [
        {
          "output_type": "execute_result",
          "data": {
            "text/plain": [
              "((506, 6), (5656458, 6))"
            ]
          },
          "metadata": {},
          "execution_count": 15
        }
      ]
    },
    {
      "cell_type": "code",
      "source": [
        "prod_energ_renovagel = indicadores[(indicadores['CountryCode'].isin(paises_al)) & (indicadores['IndicatorName'] ==\n",
        "'Renewable electricity output (% of total electricity output)')]\n",
        "prod_energ_renovagel\n",
        "pivot_prod_energ_renov = pd.pivot_table(prod_energ_renovagel, values = 'Value', index=['Year'], columns='CountryName')\n"
      ],
      "metadata": {
        "id": "QGwYHnaxBeCf"
      },
      "execution_count": null,
      "outputs": []
    },
    {
      "cell_type": "code",
      "source": [
        "pivot_prod_energ_renov.head(5)"
      ],
      "metadata": {
        "colab": {
          "base_uri": "https://localhost:8080/",
          "height": 267
        },
        "id": "_IWl0NFRBgF3",
        "outputId": "f0a79c69-3368-4225-c4ed-60f3eea2c524"
      },
      "execution_count": null,
      "outputs": [
        {
          "output_type": "execute_result",
          "data": {
            "text/plain": [
              "CountryName  Argentina    Bolivia     Brazil      Chile   Colombia  \\\n",
              "Year                                                                 \n",
              "1990         35.441466  52.422145  94.500518  53.837361  76.384190   \n",
              "1991         30.436566  58.875220  94.625753  70.973398  75.682617   \n",
              "1992         34.870528  54.145937  94.419440  82.694630  68.665007   \n",
              "1993         38.934000  58.279894  95.254707  81.664792  73.253974   \n",
              "1994         42.624705  48.158640  95.405340  74.265142  78.492598   \n",
              "\n",
              "CountryName  Costa Rica       Cuba  Dominican Republic    Ecuador  \\\n",
              "Year                                                                \n",
              "1990          97.520185  10.250266           10.113575  78.547803   \n",
              "1991          94.875776  10.334415           13.658537  72.770290   \n",
              "1992          82.837948  12.289825           10.016126  69.121734   \n",
              "1993          89.922638   8.807490           21.744816  78.396977   \n",
              "1994          90.146580   7.906394           10.224659  80.611493   \n",
              "\n",
              "CountryName  El Salvador  ...      Haiti   Honduras     Mexico  Nicaragua  \\\n",
              "Year                      ...                                               \n",
              "1990           93.192065  ...  79.396985  98.275119  24.693319  61.358957   \n",
              "1991           73.704832  ...  74.572650  98.550725  22.388582  60.252157   \n",
              "1992           75.860621  ...  75.886525  93.555271  25.655558  50.945699   \n",
              "1993           68.199784  ...  75.274725  88.134270  25.396357  57.002882   \n",
              "1994           58.945027  ...  82.918149  77.815846  19.021824  48.453608   \n",
              "\n",
              "CountryName     Panama   Paraguay       Peru   Suriname    Uruguay  \\\n",
              "Year                                                                 \n",
              "1990         85.268696  99.974251  76.803302  77.118644  94.948952   \n",
              "1991         74.408602  99.962523  80.272062  80.282595  87.904260   \n",
              "1992         66.724079  99.959471  74.851395  80.483153  89.762895   \n",
              "1993         74.261201  99.955465  80.415991  79.911839  92.228629   \n",
              "1994         71.972627  99.980778  81.091643  79.575265  98.792492   \n",
              "\n",
              "CountryName  Venezuela, RB  \n",
              "Year                        \n",
              "1990             62.343858  \n",
              "1991             70.325402  \n",
              "1992             70.093416  \n",
              "1993             68.429852  \n",
              "1994             72.006852  \n",
              "\n",
              "[5 rows x 22 columns]"
            ],
            "text/html": [
              "\n",
              "  <div id=\"df-627b38fb-4fa3-4e57-9143-9aeb3bca1d8c\" class=\"colab-df-container\">\n",
              "    <div>\n",
              "<style scoped>\n",
              "    .dataframe tbody tr th:only-of-type {\n",
              "        vertical-align: middle;\n",
              "    }\n",
              "\n",
              "    .dataframe tbody tr th {\n",
              "        vertical-align: top;\n",
              "    }\n",
              "\n",
              "    .dataframe thead th {\n",
              "        text-align: right;\n",
              "    }\n",
              "</style>\n",
              "<table border=\"1\" class=\"dataframe\">\n",
              "  <thead>\n",
              "    <tr style=\"text-align: right;\">\n",
              "      <th>CountryName</th>\n",
              "      <th>Argentina</th>\n",
              "      <th>Bolivia</th>\n",
              "      <th>Brazil</th>\n",
              "      <th>Chile</th>\n",
              "      <th>Colombia</th>\n",
              "      <th>Costa Rica</th>\n",
              "      <th>Cuba</th>\n",
              "      <th>Dominican Republic</th>\n",
              "      <th>Ecuador</th>\n",
              "      <th>El Salvador</th>\n",
              "      <th>...</th>\n",
              "      <th>Haiti</th>\n",
              "      <th>Honduras</th>\n",
              "      <th>Mexico</th>\n",
              "      <th>Nicaragua</th>\n",
              "      <th>Panama</th>\n",
              "      <th>Paraguay</th>\n",
              "      <th>Peru</th>\n",
              "      <th>Suriname</th>\n",
              "      <th>Uruguay</th>\n",
              "      <th>Venezuela, RB</th>\n",
              "    </tr>\n",
              "    <tr>\n",
              "      <th>Year</th>\n",
              "      <th></th>\n",
              "      <th></th>\n",
              "      <th></th>\n",
              "      <th></th>\n",
              "      <th></th>\n",
              "      <th></th>\n",
              "      <th></th>\n",
              "      <th></th>\n",
              "      <th></th>\n",
              "      <th></th>\n",
              "      <th></th>\n",
              "      <th></th>\n",
              "      <th></th>\n",
              "      <th></th>\n",
              "      <th></th>\n",
              "      <th></th>\n",
              "      <th></th>\n",
              "      <th></th>\n",
              "      <th></th>\n",
              "      <th></th>\n",
              "      <th></th>\n",
              "    </tr>\n",
              "  </thead>\n",
              "  <tbody>\n",
              "    <tr>\n",
              "      <th>1990</th>\n",
              "      <td>35.441466</td>\n",
              "      <td>52.422145</td>\n",
              "      <td>94.500518</td>\n",
              "      <td>53.837361</td>\n",
              "      <td>76.384190</td>\n",
              "      <td>97.520185</td>\n",
              "      <td>10.250266</td>\n",
              "      <td>10.113575</td>\n",
              "      <td>78.547803</td>\n",
              "      <td>93.192065</td>\n",
              "      <td>...</td>\n",
              "      <td>79.396985</td>\n",
              "      <td>98.275119</td>\n",
              "      <td>24.693319</td>\n",
              "      <td>61.358957</td>\n",
              "      <td>85.268696</td>\n",
              "      <td>99.974251</td>\n",
              "      <td>76.803302</td>\n",
              "      <td>77.118644</td>\n",
              "      <td>94.948952</td>\n",
              "      <td>62.343858</td>\n",
              "    </tr>\n",
              "    <tr>\n",
              "      <th>1991</th>\n",
              "      <td>30.436566</td>\n",
              "      <td>58.875220</td>\n",
              "      <td>94.625753</td>\n",
              "      <td>70.973398</td>\n",
              "      <td>75.682617</td>\n",
              "      <td>94.875776</td>\n",
              "      <td>10.334415</td>\n",
              "      <td>13.658537</td>\n",
              "      <td>72.770290</td>\n",
              "      <td>73.704832</td>\n",
              "      <td>...</td>\n",
              "      <td>74.572650</td>\n",
              "      <td>98.550725</td>\n",
              "      <td>22.388582</td>\n",
              "      <td>60.252157</td>\n",
              "      <td>74.408602</td>\n",
              "      <td>99.962523</td>\n",
              "      <td>80.272062</td>\n",
              "      <td>80.282595</td>\n",
              "      <td>87.904260</td>\n",
              "      <td>70.325402</td>\n",
              "    </tr>\n",
              "    <tr>\n",
              "      <th>1992</th>\n",
              "      <td>34.870528</td>\n",
              "      <td>54.145937</td>\n",
              "      <td>94.419440</td>\n",
              "      <td>82.694630</td>\n",
              "      <td>68.665007</td>\n",
              "      <td>82.837948</td>\n",
              "      <td>12.289825</td>\n",
              "      <td>10.016126</td>\n",
              "      <td>69.121734</td>\n",
              "      <td>75.860621</td>\n",
              "      <td>...</td>\n",
              "      <td>75.886525</td>\n",
              "      <td>93.555271</td>\n",
              "      <td>25.655558</td>\n",
              "      <td>50.945699</td>\n",
              "      <td>66.724079</td>\n",
              "      <td>99.959471</td>\n",
              "      <td>74.851395</td>\n",
              "      <td>80.483153</td>\n",
              "      <td>89.762895</td>\n",
              "      <td>70.093416</td>\n",
              "    </tr>\n",
              "    <tr>\n",
              "      <th>1993</th>\n",
              "      <td>38.934000</td>\n",
              "      <td>58.279894</td>\n",
              "      <td>95.254707</td>\n",
              "      <td>81.664792</td>\n",
              "      <td>73.253974</td>\n",
              "      <td>89.922638</td>\n",
              "      <td>8.807490</td>\n",
              "      <td>21.744816</td>\n",
              "      <td>78.396977</td>\n",
              "      <td>68.199784</td>\n",
              "      <td>...</td>\n",
              "      <td>75.274725</td>\n",
              "      <td>88.134270</td>\n",
              "      <td>25.396357</td>\n",
              "      <td>57.002882</td>\n",
              "      <td>74.261201</td>\n",
              "      <td>99.955465</td>\n",
              "      <td>80.415991</td>\n",
              "      <td>79.911839</td>\n",
              "      <td>92.228629</td>\n",
              "      <td>68.429852</td>\n",
              "    </tr>\n",
              "    <tr>\n",
              "      <th>1994</th>\n",
              "      <td>42.624705</td>\n",
              "      <td>48.158640</td>\n",
              "      <td>95.405340</td>\n",
              "      <td>74.265142</td>\n",
              "      <td>78.492598</td>\n",
              "      <td>90.146580</td>\n",
              "      <td>7.906394</td>\n",
              "      <td>10.224659</td>\n",
              "      <td>80.611493</td>\n",
              "      <td>58.945027</td>\n",
              "      <td>...</td>\n",
              "      <td>82.918149</td>\n",
              "      <td>77.815846</td>\n",
              "      <td>19.021824</td>\n",
              "      <td>48.453608</td>\n",
              "      <td>71.972627</td>\n",
              "      <td>99.980778</td>\n",
              "      <td>81.091643</td>\n",
              "      <td>79.575265</td>\n",
              "      <td>98.792492</td>\n",
              "      <td>72.006852</td>\n",
              "    </tr>\n",
              "  </tbody>\n",
              "</table>\n",
              "<p>5 rows × 22 columns</p>\n",
              "</div>\n",
              "    <div class=\"colab-df-buttons\">\n",
              "\n",
              "  <div class=\"colab-df-container\">\n",
              "    <button class=\"colab-df-convert\" onclick=\"convertToInteractive('df-627b38fb-4fa3-4e57-9143-9aeb3bca1d8c')\"\n",
              "            title=\"Convert this dataframe to an interactive table.\"\n",
              "            style=\"display:none;\">\n",
              "\n",
              "  <svg xmlns=\"http://www.w3.org/2000/svg\" height=\"24px\" viewBox=\"0 -960 960 960\">\n",
              "    <path d=\"M120-120v-720h720v720H120Zm60-500h600v-160H180v160Zm220 220h160v-160H400v160Zm0 220h160v-160H400v160ZM180-400h160v-160H180v160Zm440 0h160v-160H620v160ZM180-180h160v-160H180v160Zm440 0h160v-160H620v160Z\"/>\n",
              "  </svg>\n",
              "    </button>\n",
              "\n",
              "  <style>\n",
              "    .colab-df-container {\n",
              "      display:flex;\n",
              "      gap: 12px;\n",
              "    }\n",
              "\n",
              "    .colab-df-convert {\n",
              "      background-color: #E8F0FE;\n",
              "      border: none;\n",
              "      border-radius: 50%;\n",
              "      cursor: pointer;\n",
              "      display: none;\n",
              "      fill: #1967D2;\n",
              "      height: 32px;\n",
              "      padding: 0 0 0 0;\n",
              "      width: 32px;\n",
              "    }\n",
              "\n",
              "    .colab-df-convert:hover {\n",
              "      background-color: #E2EBFA;\n",
              "      box-shadow: 0px 1px 2px rgba(60, 64, 67, 0.3), 0px 1px 3px 1px rgba(60, 64, 67, 0.15);\n",
              "      fill: #174EA6;\n",
              "    }\n",
              "\n",
              "    .colab-df-buttons div {\n",
              "      margin-bottom: 4px;\n",
              "    }\n",
              "\n",
              "    [theme=dark] .colab-df-convert {\n",
              "      background-color: #3B4455;\n",
              "      fill: #D2E3FC;\n",
              "    }\n",
              "\n",
              "    [theme=dark] .colab-df-convert:hover {\n",
              "      background-color: #434B5C;\n",
              "      box-shadow: 0px 1px 3px 1px rgba(0, 0, 0, 0.15);\n",
              "      filter: drop-shadow(0px 1px 2px rgba(0, 0, 0, 0.3));\n",
              "      fill: #FFFFFF;\n",
              "    }\n",
              "  </style>\n",
              "\n",
              "    <script>\n",
              "      const buttonEl =\n",
              "        document.querySelector('#df-627b38fb-4fa3-4e57-9143-9aeb3bca1d8c button.colab-df-convert');\n",
              "      buttonEl.style.display =\n",
              "        google.colab.kernel.accessAllowed ? 'block' : 'none';\n",
              "\n",
              "      async function convertToInteractive(key) {\n",
              "        const element = document.querySelector('#df-627b38fb-4fa3-4e57-9143-9aeb3bca1d8c');\n",
              "        const dataTable =\n",
              "          await google.colab.kernel.invokeFunction('convertToInteractive',\n",
              "                                                    [key], {});\n",
              "        if (!dataTable) return;\n",
              "\n",
              "        const docLinkHtml = 'Like what you see? Visit the ' +\n",
              "          '<a target=\"_blank\" href=https://colab.research.google.com/notebooks/data_table.ipynb>data table notebook</a>'\n",
              "          + ' to learn more about interactive tables.';\n",
              "        element.innerHTML = '';\n",
              "        dataTable['output_type'] = 'display_data';\n",
              "        await google.colab.output.renderOutput(dataTable, element);\n",
              "        const docLink = document.createElement('div');\n",
              "        docLink.innerHTML = docLinkHtml;\n",
              "        element.appendChild(docLink);\n",
              "      }\n",
              "    </script>\n",
              "  </div>\n",
              "\n",
              "\n",
              "<div id=\"df-add36e73-2eaf-4968-8e1d-64ebaf135e5a\">\n",
              "  <button class=\"colab-df-quickchart\" onclick=\"quickchart('df-add36e73-2eaf-4968-8e1d-64ebaf135e5a')\"\n",
              "            title=\"Suggest charts.\"\n",
              "            style=\"display:none;\">\n",
              "\n",
              "<svg xmlns=\"http://www.w3.org/2000/svg\" height=\"24px\"viewBox=\"0 0 24 24\"\n",
              "     width=\"24px\">\n",
              "    <g>\n",
              "        <path d=\"M19 3H5c-1.1 0-2 .9-2 2v14c0 1.1.9 2 2 2h14c1.1 0 2-.9 2-2V5c0-1.1-.9-2-2-2zM9 17H7v-7h2v7zm4 0h-2V7h2v10zm4 0h-2v-4h2v4z\"/>\n",
              "    </g>\n",
              "</svg>\n",
              "  </button>\n",
              "\n",
              "<style>\n",
              "  .colab-df-quickchart {\n",
              "      --bg-color: #E8F0FE;\n",
              "      --fill-color: #1967D2;\n",
              "      --hover-bg-color: #E2EBFA;\n",
              "      --hover-fill-color: #174EA6;\n",
              "      --disabled-fill-color: #AAA;\n",
              "      --disabled-bg-color: #DDD;\n",
              "  }\n",
              "\n",
              "  [theme=dark] .colab-df-quickchart {\n",
              "      --bg-color: #3B4455;\n",
              "      --fill-color: #D2E3FC;\n",
              "      --hover-bg-color: #434B5C;\n",
              "      --hover-fill-color: #FFFFFF;\n",
              "      --disabled-bg-color: #3B4455;\n",
              "      --disabled-fill-color: #666;\n",
              "  }\n",
              "\n",
              "  .colab-df-quickchart {\n",
              "    background-color: var(--bg-color);\n",
              "    border: none;\n",
              "    border-radius: 50%;\n",
              "    cursor: pointer;\n",
              "    display: none;\n",
              "    fill: var(--fill-color);\n",
              "    height: 32px;\n",
              "    padding: 0;\n",
              "    width: 32px;\n",
              "  }\n",
              "\n",
              "  .colab-df-quickchart:hover {\n",
              "    background-color: var(--hover-bg-color);\n",
              "    box-shadow: 0 1px 2px rgba(60, 64, 67, 0.3), 0 1px 3px 1px rgba(60, 64, 67, 0.15);\n",
              "    fill: var(--button-hover-fill-color);\n",
              "  }\n",
              "\n",
              "  .colab-df-quickchart-complete:disabled,\n",
              "  .colab-df-quickchart-complete:disabled:hover {\n",
              "    background-color: var(--disabled-bg-color);\n",
              "    fill: var(--disabled-fill-color);\n",
              "    box-shadow: none;\n",
              "  }\n",
              "\n",
              "  .colab-df-spinner {\n",
              "    border: 2px solid var(--fill-color);\n",
              "    border-color: transparent;\n",
              "    border-bottom-color: var(--fill-color);\n",
              "    animation:\n",
              "      spin 1s steps(1) infinite;\n",
              "  }\n",
              "\n",
              "  @keyframes spin {\n",
              "    0% {\n",
              "      border-color: transparent;\n",
              "      border-bottom-color: var(--fill-color);\n",
              "      border-left-color: var(--fill-color);\n",
              "    }\n",
              "    20% {\n",
              "      border-color: transparent;\n",
              "      border-left-color: var(--fill-color);\n",
              "      border-top-color: var(--fill-color);\n",
              "    }\n",
              "    30% {\n",
              "      border-color: transparent;\n",
              "      border-left-color: var(--fill-color);\n",
              "      border-top-color: var(--fill-color);\n",
              "      border-right-color: var(--fill-color);\n",
              "    }\n",
              "    40% {\n",
              "      border-color: transparent;\n",
              "      border-right-color: var(--fill-color);\n",
              "      border-top-color: var(--fill-color);\n",
              "    }\n",
              "    60% {\n",
              "      border-color: transparent;\n",
              "      border-right-color: var(--fill-color);\n",
              "    }\n",
              "    80% {\n",
              "      border-color: transparent;\n",
              "      border-right-color: var(--fill-color);\n",
              "      border-bottom-color: var(--fill-color);\n",
              "    }\n",
              "    90% {\n",
              "      border-color: transparent;\n",
              "      border-bottom-color: var(--fill-color);\n",
              "    }\n",
              "  }\n",
              "</style>\n",
              "\n",
              "  <script>\n",
              "    async function quickchart(key) {\n",
              "      const quickchartButtonEl =\n",
              "        document.querySelector('#' + key + ' button');\n",
              "      quickchartButtonEl.disabled = true;  // To prevent multiple clicks.\n",
              "      quickchartButtonEl.classList.add('colab-df-spinner');\n",
              "      try {\n",
              "        const charts = await google.colab.kernel.invokeFunction(\n",
              "            'suggestCharts', [key], {});\n",
              "      } catch (error) {\n",
              "        console.error('Error during call to suggestCharts:', error);\n",
              "      }\n",
              "      quickchartButtonEl.classList.remove('colab-df-spinner');\n",
              "      quickchartButtonEl.classList.add('colab-df-quickchart-complete');\n",
              "    }\n",
              "    (() => {\n",
              "      let quickchartButtonEl =\n",
              "        document.querySelector('#df-add36e73-2eaf-4968-8e1d-64ebaf135e5a button');\n",
              "      quickchartButtonEl.style.display =\n",
              "        google.colab.kernel.accessAllowed ? 'block' : 'none';\n",
              "    })();\n",
              "  </script>\n",
              "</div>\n",
              "    </div>\n",
              "  </div>\n"
            ]
          },
          "metadata": {},
          "execution_count": 17
        }
      ]
    },
    {
      "cell_type": "code",
      "source": [
        "cons_energ_renovagel = indicadores[(indicadores['CountryCode'].isin(paises_al)) & (indicadores['IndicatorName'] ==\n",
        "'Renewable energy consumption (% of total final energy consumption)')]\n",
        "cons_energ_renovagel\n",
        "pivot_cons_energ_renov = pd.pivot_table(cons_energ_renovagel, values = 'Value', index=['Year'], columns='CountryName')\n",
        "\n"
      ],
      "metadata": {
        "id": "3Zsa129mBh1W"
      },
      "execution_count": null,
      "outputs": []
    },
    {
      "cell_type": "code",
      "source": [
        "ondedataset =pd.merge(pivot_prod_energ_renov,pivot_cons_energ_renov, left_index=True, right_index=True )\n",
        "ondedataset.head(5)"
      ],
      "metadata": {
        "colab": {
          "base_uri": "https://localhost:8080/",
          "height": 267
        },
        "id": "7RYgkXrlBzxX",
        "outputId": "c97eb439-0a33-48a2-9eb1-03f0b59c1a7b"
      },
      "execution_count": null,
      "outputs": [
        {
          "output_type": "execute_result",
          "data": {
            "text/plain": [
              "CountryName  Argentina_x  Bolivia_x   Brazil_x    Chile_x  Colombia_x  \\\n",
              "Year                                                                    \n",
              "1990           35.441466  52.422145  94.500518  53.837361   76.384190   \n",
              "1991           30.436566  58.875220  94.625753  70.973398   75.682617   \n",
              "1992           34.870528  54.145937  94.419440  82.694630   68.665007   \n",
              "1993           38.934000  58.279894  95.254707  81.664792   73.253974   \n",
              "1994           42.624705  48.158640  95.405340  74.265142   78.492598   \n",
              "\n",
              "CountryName  Costa Rica_x     Cuba_x  Dominican Republic_x  Ecuador_x  \\\n",
              "Year                                                                    \n",
              "1990            97.520185  10.250266             10.113575  78.547803   \n",
              "1991            94.875776  10.334415             13.658537  72.770290   \n",
              "1992            82.837948  12.289825             10.016126  69.121734   \n",
              "1993            89.922638   8.807490             21.744816  78.396977   \n",
              "1994            90.146580   7.906394             10.224659  80.611493   \n",
              "\n",
              "CountryName  El Salvador_x  ...    Haiti_y  Honduras_y   Mexico_y  \\\n",
              "Year                        ...                                     \n",
              "1990             93.192065  ...  81.119545   70.129092  14.217561   \n",
              "1991             73.704832  ...  81.692361   70.201894  13.021500   \n",
              "1992             75.860621  ...  83.427117   67.749121  13.197152   \n",
              "1993             68.199784  ...  84.609708   66.725050  13.732168   \n",
              "1994             58.945027  ...  95.039590   63.946870  12.320556   \n",
              "\n",
              "CountryName  Nicaragua_y   Panama_y  Paraguay_y     Peru_y  Suriname_y  \\\n",
              "Year                                                                     \n",
              "1990           68.765928  43.589450   78.506446  39.425835   35.605104   \n",
              "1991           70.523038  41.258409   79.150280  39.913116   37.997032   \n",
              "1992           67.117240  40.216914   75.728100  37.307756   38.112745   \n",
              "1993           67.561430  40.404742   72.612385  37.079257   15.146772   \n",
              "1994           64.494468  38.312683   69.878600  35.934983   15.280275   \n",
              "\n",
              "CountryName  Uruguay_y  Venezuela, RB_y  \n",
              "Year                                     \n",
              "1990         44.812469        11.249142  \n",
              "1991         43.729824        12.335343  \n",
              "1992         43.399710        13.185393  \n",
              "1993         42.763082        12.371086  \n",
              "1994         42.250971        12.937404  \n",
              "\n",
              "[5 rows x 44 columns]"
            ],
            "text/html": [
              "\n",
              "  <div id=\"df-44f5998c-fe16-40da-9b7a-a159452f7389\" class=\"colab-df-container\">\n",
              "    <div>\n",
              "<style scoped>\n",
              "    .dataframe tbody tr th:only-of-type {\n",
              "        vertical-align: middle;\n",
              "    }\n",
              "\n",
              "    .dataframe tbody tr th {\n",
              "        vertical-align: top;\n",
              "    }\n",
              "\n",
              "    .dataframe thead th {\n",
              "        text-align: right;\n",
              "    }\n",
              "</style>\n",
              "<table border=\"1\" class=\"dataframe\">\n",
              "  <thead>\n",
              "    <tr style=\"text-align: right;\">\n",
              "      <th>CountryName</th>\n",
              "      <th>Argentina_x</th>\n",
              "      <th>Bolivia_x</th>\n",
              "      <th>Brazil_x</th>\n",
              "      <th>Chile_x</th>\n",
              "      <th>Colombia_x</th>\n",
              "      <th>Costa Rica_x</th>\n",
              "      <th>Cuba_x</th>\n",
              "      <th>Dominican Republic_x</th>\n",
              "      <th>Ecuador_x</th>\n",
              "      <th>El Salvador_x</th>\n",
              "      <th>...</th>\n",
              "      <th>Haiti_y</th>\n",
              "      <th>Honduras_y</th>\n",
              "      <th>Mexico_y</th>\n",
              "      <th>Nicaragua_y</th>\n",
              "      <th>Panama_y</th>\n",
              "      <th>Paraguay_y</th>\n",
              "      <th>Peru_y</th>\n",
              "      <th>Suriname_y</th>\n",
              "      <th>Uruguay_y</th>\n",
              "      <th>Venezuela, RB_y</th>\n",
              "    </tr>\n",
              "    <tr>\n",
              "      <th>Year</th>\n",
              "      <th></th>\n",
              "      <th></th>\n",
              "      <th></th>\n",
              "      <th></th>\n",
              "      <th></th>\n",
              "      <th></th>\n",
              "      <th></th>\n",
              "      <th></th>\n",
              "      <th></th>\n",
              "      <th></th>\n",
              "      <th></th>\n",
              "      <th></th>\n",
              "      <th></th>\n",
              "      <th></th>\n",
              "      <th></th>\n",
              "      <th></th>\n",
              "      <th></th>\n",
              "      <th></th>\n",
              "      <th></th>\n",
              "      <th></th>\n",
              "      <th></th>\n",
              "    </tr>\n",
              "  </thead>\n",
              "  <tbody>\n",
              "    <tr>\n",
              "      <th>1990</th>\n",
              "      <td>35.441466</td>\n",
              "      <td>52.422145</td>\n",
              "      <td>94.500518</td>\n",
              "      <td>53.837361</td>\n",
              "      <td>76.384190</td>\n",
              "      <td>97.520185</td>\n",
              "      <td>10.250266</td>\n",
              "      <td>10.113575</td>\n",
              "      <td>78.547803</td>\n",
              "      <td>93.192065</td>\n",
              "      <td>...</td>\n",
              "      <td>81.119545</td>\n",
              "      <td>70.129092</td>\n",
              "      <td>14.217561</td>\n",
              "      <td>68.765928</td>\n",
              "      <td>43.589450</td>\n",
              "      <td>78.506446</td>\n",
              "      <td>39.425835</td>\n",
              "      <td>35.605104</td>\n",
              "      <td>44.812469</td>\n",
              "      <td>11.249142</td>\n",
              "    </tr>\n",
              "    <tr>\n",
              "      <th>1991</th>\n",
              "      <td>30.436566</td>\n",
              "      <td>58.875220</td>\n",
              "      <td>94.625753</td>\n",
              "      <td>70.973398</td>\n",
              "      <td>75.682617</td>\n",
              "      <td>94.875776</td>\n",
              "      <td>10.334415</td>\n",
              "      <td>13.658537</td>\n",
              "      <td>72.770290</td>\n",
              "      <td>73.704832</td>\n",
              "      <td>...</td>\n",
              "      <td>81.692361</td>\n",
              "      <td>70.201894</td>\n",
              "      <td>13.021500</td>\n",
              "      <td>70.523038</td>\n",
              "      <td>41.258409</td>\n",
              "      <td>79.150280</td>\n",
              "      <td>39.913116</td>\n",
              "      <td>37.997032</td>\n",
              "      <td>43.729824</td>\n",
              "      <td>12.335343</td>\n",
              "    </tr>\n",
              "    <tr>\n",
              "      <th>1992</th>\n",
              "      <td>34.870528</td>\n",
              "      <td>54.145937</td>\n",
              "      <td>94.419440</td>\n",
              "      <td>82.694630</td>\n",
              "      <td>68.665007</td>\n",
              "      <td>82.837948</td>\n",
              "      <td>12.289825</td>\n",
              "      <td>10.016126</td>\n",
              "      <td>69.121734</td>\n",
              "      <td>75.860621</td>\n",
              "      <td>...</td>\n",
              "      <td>83.427117</td>\n",
              "      <td>67.749121</td>\n",
              "      <td>13.197152</td>\n",
              "      <td>67.117240</td>\n",
              "      <td>40.216914</td>\n",
              "      <td>75.728100</td>\n",
              "      <td>37.307756</td>\n",
              "      <td>38.112745</td>\n",
              "      <td>43.399710</td>\n",
              "      <td>13.185393</td>\n",
              "    </tr>\n",
              "    <tr>\n",
              "      <th>1993</th>\n",
              "      <td>38.934000</td>\n",
              "      <td>58.279894</td>\n",
              "      <td>95.254707</td>\n",
              "      <td>81.664792</td>\n",
              "      <td>73.253974</td>\n",
              "      <td>89.922638</td>\n",
              "      <td>8.807490</td>\n",
              "      <td>21.744816</td>\n",
              "      <td>78.396977</td>\n",
              "      <td>68.199784</td>\n",
              "      <td>...</td>\n",
              "      <td>84.609708</td>\n",
              "      <td>66.725050</td>\n",
              "      <td>13.732168</td>\n",
              "      <td>67.561430</td>\n",
              "      <td>40.404742</td>\n",
              "      <td>72.612385</td>\n",
              "      <td>37.079257</td>\n",
              "      <td>15.146772</td>\n",
              "      <td>42.763082</td>\n",
              "      <td>12.371086</td>\n",
              "    </tr>\n",
              "    <tr>\n",
              "      <th>1994</th>\n",
              "      <td>42.624705</td>\n",
              "      <td>48.158640</td>\n",
              "      <td>95.405340</td>\n",
              "      <td>74.265142</td>\n",
              "      <td>78.492598</td>\n",
              "      <td>90.146580</td>\n",
              "      <td>7.906394</td>\n",
              "      <td>10.224659</td>\n",
              "      <td>80.611493</td>\n",
              "      <td>58.945027</td>\n",
              "      <td>...</td>\n",
              "      <td>95.039590</td>\n",
              "      <td>63.946870</td>\n",
              "      <td>12.320556</td>\n",
              "      <td>64.494468</td>\n",
              "      <td>38.312683</td>\n",
              "      <td>69.878600</td>\n",
              "      <td>35.934983</td>\n",
              "      <td>15.280275</td>\n",
              "      <td>42.250971</td>\n",
              "      <td>12.937404</td>\n",
              "    </tr>\n",
              "  </tbody>\n",
              "</table>\n",
              "<p>5 rows × 44 columns</p>\n",
              "</div>\n",
              "    <div class=\"colab-df-buttons\">\n",
              "\n",
              "  <div class=\"colab-df-container\">\n",
              "    <button class=\"colab-df-convert\" onclick=\"convertToInteractive('df-44f5998c-fe16-40da-9b7a-a159452f7389')\"\n",
              "            title=\"Convert this dataframe to an interactive table.\"\n",
              "            style=\"display:none;\">\n",
              "\n",
              "  <svg xmlns=\"http://www.w3.org/2000/svg\" height=\"24px\" viewBox=\"0 -960 960 960\">\n",
              "    <path d=\"M120-120v-720h720v720H120Zm60-500h600v-160H180v160Zm220 220h160v-160H400v160Zm0 220h160v-160H400v160ZM180-400h160v-160H180v160Zm440 0h160v-160H620v160ZM180-180h160v-160H180v160Zm440 0h160v-160H620v160Z\"/>\n",
              "  </svg>\n",
              "    </button>\n",
              "\n",
              "  <style>\n",
              "    .colab-df-container {\n",
              "      display:flex;\n",
              "      gap: 12px;\n",
              "    }\n",
              "\n",
              "    .colab-df-convert {\n",
              "      background-color: #E8F0FE;\n",
              "      border: none;\n",
              "      border-radius: 50%;\n",
              "      cursor: pointer;\n",
              "      display: none;\n",
              "      fill: #1967D2;\n",
              "      height: 32px;\n",
              "      padding: 0 0 0 0;\n",
              "      width: 32px;\n",
              "    }\n",
              "\n",
              "    .colab-df-convert:hover {\n",
              "      background-color: #E2EBFA;\n",
              "      box-shadow: 0px 1px 2px rgba(60, 64, 67, 0.3), 0px 1px 3px 1px rgba(60, 64, 67, 0.15);\n",
              "      fill: #174EA6;\n",
              "    }\n",
              "\n",
              "    .colab-df-buttons div {\n",
              "      margin-bottom: 4px;\n",
              "    }\n",
              "\n",
              "    [theme=dark] .colab-df-convert {\n",
              "      background-color: #3B4455;\n",
              "      fill: #D2E3FC;\n",
              "    }\n",
              "\n",
              "    [theme=dark] .colab-df-convert:hover {\n",
              "      background-color: #434B5C;\n",
              "      box-shadow: 0px 1px 3px 1px rgba(0, 0, 0, 0.15);\n",
              "      filter: drop-shadow(0px 1px 2px rgba(0, 0, 0, 0.3));\n",
              "      fill: #FFFFFF;\n",
              "    }\n",
              "  </style>\n",
              "\n",
              "    <script>\n",
              "      const buttonEl =\n",
              "        document.querySelector('#df-44f5998c-fe16-40da-9b7a-a159452f7389 button.colab-df-convert');\n",
              "      buttonEl.style.display =\n",
              "        google.colab.kernel.accessAllowed ? 'block' : 'none';\n",
              "\n",
              "      async function convertToInteractive(key) {\n",
              "        const element = document.querySelector('#df-44f5998c-fe16-40da-9b7a-a159452f7389');\n",
              "        const dataTable =\n",
              "          await google.colab.kernel.invokeFunction('convertToInteractive',\n",
              "                                                    [key], {});\n",
              "        if (!dataTable) return;\n",
              "\n",
              "        const docLinkHtml = 'Like what you see? Visit the ' +\n",
              "          '<a target=\"_blank\" href=https://colab.research.google.com/notebooks/data_table.ipynb>data table notebook</a>'\n",
              "          + ' to learn more about interactive tables.';\n",
              "        element.innerHTML = '';\n",
              "        dataTable['output_type'] = 'display_data';\n",
              "        await google.colab.output.renderOutput(dataTable, element);\n",
              "        const docLink = document.createElement('div');\n",
              "        docLink.innerHTML = docLinkHtml;\n",
              "        element.appendChild(docLink);\n",
              "      }\n",
              "    </script>\n",
              "  </div>\n",
              "\n",
              "\n",
              "<div id=\"df-f9036717-367c-48df-975c-70f061e8c5ad\">\n",
              "  <button class=\"colab-df-quickchart\" onclick=\"quickchart('df-f9036717-367c-48df-975c-70f061e8c5ad')\"\n",
              "            title=\"Suggest charts.\"\n",
              "            style=\"display:none;\">\n",
              "\n",
              "<svg xmlns=\"http://www.w3.org/2000/svg\" height=\"24px\"viewBox=\"0 0 24 24\"\n",
              "     width=\"24px\">\n",
              "    <g>\n",
              "        <path d=\"M19 3H5c-1.1 0-2 .9-2 2v14c0 1.1.9 2 2 2h14c1.1 0 2-.9 2-2V5c0-1.1-.9-2-2-2zM9 17H7v-7h2v7zm4 0h-2V7h2v10zm4 0h-2v-4h2v4z\"/>\n",
              "    </g>\n",
              "</svg>\n",
              "  </button>\n",
              "\n",
              "<style>\n",
              "  .colab-df-quickchart {\n",
              "      --bg-color: #E8F0FE;\n",
              "      --fill-color: #1967D2;\n",
              "      --hover-bg-color: #E2EBFA;\n",
              "      --hover-fill-color: #174EA6;\n",
              "      --disabled-fill-color: #AAA;\n",
              "      --disabled-bg-color: #DDD;\n",
              "  }\n",
              "\n",
              "  [theme=dark] .colab-df-quickchart {\n",
              "      --bg-color: #3B4455;\n",
              "      --fill-color: #D2E3FC;\n",
              "      --hover-bg-color: #434B5C;\n",
              "      --hover-fill-color: #FFFFFF;\n",
              "      --disabled-bg-color: #3B4455;\n",
              "      --disabled-fill-color: #666;\n",
              "  }\n",
              "\n",
              "  .colab-df-quickchart {\n",
              "    background-color: var(--bg-color);\n",
              "    border: none;\n",
              "    border-radius: 50%;\n",
              "    cursor: pointer;\n",
              "    display: none;\n",
              "    fill: var(--fill-color);\n",
              "    height: 32px;\n",
              "    padding: 0;\n",
              "    width: 32px;\n",
              "  }\n",
              "\n",
              "  .colab-df-quickchart:hover {\n",
              "    background-color: var(--hover-bg-color);\n",
              "    box-shadow: 0 1px 2px rgba(60, 64, 67, 0.3), 0 1px 3px 1px rgba(60, 64, 67, 0.15);\n",
              "    fill: var(--button-hover-fill-color);\n",
              "  }\n",
              "\n",
              "  .colab-df-quickchart-complete:disabled,\n",
              "  .colab-df-quickchart-complete:disabled:hover {\n",
              "    background-color: var(--disabled-bg-color);\n",
              "    fill: var(--disabled-fill-color);\n",
              "    box-shadow: none;\n",
              "  }\n",
              "\n",
              "  .colab-df-spinner {\n",
              "    border: 2px solid var(--fill-color);\n",
              "    border-color: transparent;\n",
              "    border-bottom-color: var(--fill-color);\n",
              "    animation:\n",
              "      spin 1s steps(1) infinite;\n",
              "  }\n",
              "\n",
              "  @keyframes spin {\n",
              "    0% {\n",
              "      border-color: transparent;\n",
              "      border-bottom-color: var(--fill-color);\n",
              "      border-left-color: var(--fill-color);\n",
              "    }\n",
              "    20% {\n",
              "      border-color: transparent;\n",
              "      border-left-color: var(--fill-color);\n",
              "      border-top-color: var(--fill-color);\n",
              "    }\n",
              "    30% {\n",
              "      border-color: transparent;\n",
              "      border-left-color: var(--fill-color);\n",
              "      border-top-color: var(--fill-color);\n",
              "      border-right-color: var(--fill-color);\n",
              "    }\n",
              "    40% {\n",
              "      border-color: transparent;\n",
              "      border-right-color: var(--fill-color);\n",
              "      border-top-color: var(--fill-color);\n",
              "    }\n",
              "    60% {\n",
              "      border-color: transparent;\n",
              "      border-right-color: var(--fill-color);\n",
              "    }\n",
              "    80% {\n",
              "      border-color: transparent;\n",
              "      border-right-color: var(--fill-color);\n",
              "      border-bottom-color: var(--fill-color);\n",
              "    }\n",
              "    90% {\n",
              "      border-color: transparent;\n",
              "      border-bottom-color: var(--fill-color);\n",
              "    }\n",
              "  }\n",
              "</style>\n",
              "\n",
              "  <script>\n",
              "    async function quickchart(key) {\n",
              "      const quickchartButtonEl =\n",
              "        document.querySelector('#' + key + ' button');\n",
              "      quickchartButtonEl.disabled = true;  // To prevent multiple clicks.\n",
              "      quickchartButtonEl.classList.add('colab-df-spinner');\n",
              "      try {\n",
              "        const charts = await google.colab.kernel.invokeFunction(\n",
              "            'suggestCharts', [key], {});\n",
              "      } catch (error) {\n",
              "        console.error('Error during call to suggestCharts:', error);\n",
              "      }\n",
              "      quickchartButtonEl.classList.remove('colab-df-spinner');\n",
              "      quickchartButtonEl.classList.add('colab-df-quickchart-complete');\n",
              "    }\n",
              "    (() => {\n",
              "      let quickchartButtonEl =\n",
              "        document.querySelector('#df-f9036717-367c-48df-975c-70f061e8c5ad button');\n",
              "      quickchartButtonEl.style.display =\n",
              "        google.colab.kernel.accessAllowed ? 'block' : 'none';\n",
              "    })();\n",
              "  </script>\n",
              "</div>\n",
              "    </div>\n",
              "  </div>\n"
            ]
          },
          "metadata": {},
          "execution_count": 19
        }
      ]
    },
    {
      "cell_type": "code",
      "source": [
        "import scipy\n",
        "\n",
        "variavel = ondedataset[['Argentina_x']]\n",
        "\n",
        "shapiro_results = scipy.stats.shapiro(variavel)\n",
        "print(shapiro_results)"
      ],
      "metadata": {
        "colab": {
          "base_uri": "https://localhost:8080/"
        },
        "id": "nY0nkccUB45_",
        "outputId": "f0820963-1839-4ebe-d409-c72848c3f58d"
      },
      "execution_count": null,
      "outputs": [
        {
          "output_type": "stream",
          "name": "stdout",
          "text": [
            "ShapiroResult(statistic=0.9717175364494324, pvalue=0.7300340533256531)\n"
          ]
        }
      ]
    },
    {
      "cell_type": "code",
      "source": [
        "variavel = ondedataset[['Brazil_x']]\n",
        "\n",
        "shapiro_results = scipy.stats.shapiro(variavel)\n",
        "print(shapiro_results)"
      ],
      "metadata": {
        "colab": {
          "base_uri": "https://localhost:8080/"
        },
        "id": "GnQlRLziB6tA",
        "outputId": "c48c92ec-ee83-4961-adde-e6fac6bdd362"
      },
      "execution_count": null,
      "outputs": [
        {
          "output_type": "stream",
          "name": "stdout",
          "text": [
            "ShapiroResult(statistic=0.9119672179222107, pvalue=0.044941723346710205)\n"
          ]
        }
      ]
    },
    {
      "cell_type": "code",
      "source": [
        "variavel.hist()\n"
      ],
      "metadata": {
        "id": "2mNH4Vr-B9Y3"
      },
      "execution_count": null,
      "outputs": []
    },
    {
      "cell_type": "code",
      "source": [
        "for statistic, pvalue in shapiro_results:\n",
        "\n",
        "\n",
        "  if shapiro_results[1] < 0.05 :\n",
        "    printf(\"passou no teste\")\n",
        "  else:\n",
        "    printf(\"não passoupassou no teste\")\n"
      ],
      "metadata": {
        "id": "6JRwjHzWCTQp"
      },
      "execution_count": null,
      "outputs": []
    },
    {
      "cell_type": "code",
      "source": [
        "for col in ondedataset.columns:\n",
        "\n",
        "  shapiro_results = scipy.stats.shapiro(ondedataset[[col]])\n",
        "  if shapiro_results[0] < 1:\n",
        "    if shapiro_results[1] < 0.05:\n",
        "      print(f\"A variável {col} não é normal, e o seu valor p é {shapiro_results[1]}\")\n",
        "    else:\n",
        "      print(f\"A variável {col}  é normal, e o seu valor p é {shapiro_results[1]}\")\n",
        "  else:\n",
        "    print(f\"A variável {col} é normal, e o seu valor W é {shapiro_results[0]}\")\n"
      ],
      "metadata": {
        "id": "iRoBoc_eF3Yr"
      },
      "execution_count": null,
      "outputs": []
    },
    {
      "cell_type": "markdown",
      "metadata": {
        "id": "uDZkE5EWk0rx"
      },
      "source": [
        "## Z-Score\n",
        "\n",
        "### Z-Score é uma medida de quanto os dados estão longe da média ou abaixo ou acima. O valor deve variar entre -3 a 3.\n",
        "### Z-Score é uma pontuação padrão: z = (valor - média) / desvio padrão\n",
        "\n",
        "#### Exemplo:  se a média populacional e sd forem 40 e 10, respectivamente, para as pontuações das turmas, o que dizemos sobre o desempenho de um aluno que obteve 65?\n"
      ]
    },
    {
      "cell_type": "code",
      "source": [
        "65-45/10 = 2,5"
      ],
      "metadata": {
        "id": "8wC-9L2xKL4P"
      },
      "execution_count": null,
      "outputs": []
    },
    {
      "cell_type": "markdown",
      "source": [
        "#Intro Scipy\n"
      ],
      "metadata": {
        "id": "DmZhe_6BKSKQ"
      }
    },
    {
      "cell_type": "code",
      "source": [
        "from scipy.stats import zscore\n",
        "\n",
        "ondedataset[['Argentina_x']].apply(zscore).plot()\n",
        "\n",
        "\n",
        "\n",
        "\n",
        "\n",
        "\n",
        "\n",
        "\n",
        "\n",
        "\n",
        "\n",
        "\n",
        "\n"
      ],
      "metadata": {
        "id": "ymp05adw1PBa",
        "colab": {
          "base_uri": "https://localhost:8080/",
          "height": 466
        },
        "outputId": "9fcae19e-35ec-4065-b8f6-12a932a22f29"
      },
      "execution_count": null,
      "outputs": [
        {
          "output_type": "execute_result",
          "data": {
            "text/plain": [
              "<Axes: xlabel='Year'>"
            ]
          },
          "metadata": {},
          "execution_count": 37
        },
        {
          "output_type": "display_data",
          "data": {
            "text/plain": [
              "<Figure size 640x480 with 1 Axes>"
            ],
            "image/png": "[encoded data removed]"
          },
          "metadata": {}
        }
      ]
    },
    {
      "cell_type": "markdown",
      "source": [
        "##Qual país tem a maior quantidade de produção acima da média de energia renovável ao longo dos anos?\n"
      ],
      "metadata": {
        "id": "jVCZR5gGLwv9"
      }
    },
    {
      "cell_type": "code",
      "source": [
        "ondedataset[[col]].apply(zscore).values"
      ],
      "metadata": {
        "colab": {
          "base_uri": "https://localhost:8080/"
        },
        "id": "Nz6OeAK-L6hF",
        "outputId": "6e480069-4267-4495-a90b-64acea519a5e"
      },
      "execution_count": null,
      "outputs": [
        {
          "output_type": "execute_result",
          "data": {
            "text/plain": [
              "array([[ 0.26400461],\n",
              "       [-0.63234572],\n",
              "       [ 0.16175275],\n",
              "       [ 0.88949844],\n",
              "       [ 1.55048362],\n",
              "       [ 1.11862929],\n",
              "       [-0.10164276],\n",
              "       [ 0.97062494],\n",
              "       [ 0.43388987],\n",
              "       [-1.19508725],\n",
              "       [-0.14470558],\n",
              "       [ 1.40813546],\n",
              "       [ 1.71868394],\n",
              "       [ 0.71358363],\n",
              "       [-0.41774814],\n",
              "       [-0.07919992],\n",
              "       [ 0.5659996 ],\n",
              "       [-0.74327518],\n",
              "       [-1.36550205],\n",
              "       [-0.90277563],\n",
              "       [-0.96415543],\n",
              "       [-1.42239022],\n",
              "       [-1.82645827]])"
            ]
          },
          "metadata": {},
          "execution_count": 74
        }
      ]
    },
    {
      "cell_type": "code",
      "source": [
        "import numpy as np\n",
        "\n",
        "threshold = 0.0\n",
        "\n",
        "dict_country = {}\n",
        "\n",
        "## {'Argentina_x':8, 'Brazil_x':10}\n",
        "\n",
        "for col in ondedataset.columns:\n",
        "  cond = ondedataset[[col]].apply(zscore).values > threshold\n",
        "  dict_country[col] = np.sum(cond)\n",
        "\n",
        "sorted_dict = dict(sorted(dict_country.items(), key=lambda item:item[1], reverse=True))\n",
        "print(sorted_dict)"
      ],
      "metadata": {
        "colab": {
          "base_uri": "https://localhost:8080/"
        },
        "id": "6SsRcCoFOY5v",
        "outputId": "01e7e60f-d4b8-4937-8a61-8d57026a8fd3"
      },
      "execution_count": null,
      "outputs": [
        {
          "output_type": "stream",
          "name": "stdout",
          "text": [
            "{'Paraguay_x': 16, 'Uruguay_x': 16, 'Venezuela, RB_x': 15, 'Cuba_y': 15, 'Peru_x': 14, 'Ecuador_y': 13, 'El Salvador_y': 13, 'Panama_y': 13, 'Bolivia_x': 12, 'Costa Rica_x': 12, 'Cuba_x': 12, 'Argentina_y': 12, 'Brazil_y': 12, 'Guatemala_y': 12, 'Uruguay_y': 12, 'Argentina_x': 11, 'Colombia_x': 11, 'Guatemala_x': 11, 'Panama_x': 11, 'Bolivia_y': 11, 'Chile_y': 11, 'Costa Rica_y': 11, 'Mexico_y': 11, 'Brazil_x': 10, 'Ecuador_x': 10, 'El Salvador_x': 10, 'Honduras_x': 10, 'Mexico_x': 10, 'Suriname_x': 10, 'Haiti_y': 10, 'Nicaragua_y': 10, 'Paraguay_y': 10, 'Peru_y': 10, 'Chile_x': 9, 'Dominican Republic_x': 9, 'Guyana_x': 9, 'Nicaragua_x': 9, 'Honduras_y': 9, 'Venezuela, RB_y': 9, 'Haiti_x': 8, 'Colombia_y': 8, 'Dominican Republic_y': 7, 'Guyana_y': 0, 'Suriname_y': 0}\n"
          ]
        }
      ]
    },
    {
      "cell_type": "code",
      "source": [
        " ## Fertility rate, total (births per woman)\n",
        "## Birth rate, crude (per 1,000 people)"
      ],
      "metadata": {
        "id": "60rOu4VrP-zm"
      },
      "execution_count": null,
      "outputs": []
    },
    {
      "cell_type": "code",
      "source": [
        " ## Fertility rate, total (births per woman)\n",
        "\n",
        "import numpy as np\n",
        "\n",
        "threshold = 0.0\n",
        "\n",
        "dict_frt = {}\n",
        "\n",
        "for col2 in XXXX.columns:\n",
        "  cond = ondedataset[[col2]].apply(zscore).values > threshold\n",
        "  dict_frt[col2] = np.sum(cond)\n",
        "\n",
        "sorted_frt = dict(sorted(dict_frt.items(), key=lambda item:item[1], reverse=True))\n",
        "print(sorted_frt)"
      ],
      "metadata": {
        "id": "rdNJXXyFUetw"
      },
      "execution_count": null,
      "outputs": []
    },
    {
      "cell_type": "markdown",
      "metadata": {
        "id": "dfXJy0BBoiwS"
      },
      "source": [
        "#### Isso significa que a nota  do aluno está 2.5 acima da média."
      ]
    },
    {
      "cell_type": "markdown",
      "source": [],
      "metadata": {
        "id": "4gdvzxjXKUye"
      }
    },
    {
      "cell_type": "code",
      "source": [],
      "metadata": {
        "id": "NAQbe3VQ1PTa"
      },
      "execution_count": null,
      "outputs": []
    },
    {
      "cell_type": "markdown",
      "metadata": {
        "id": "suphym6Hj6D5"
      },
      "source": [
        "# 4) Intervalo de Confiança\n",
        "\n",
        "\n",
        "## O IC indica quanto de incerteza há em uma amostra de uma população para um determinado parâmetro.\n",
        "\n",
        "## O IC é computado para quantificar o grau de confiabilidade da amostra e o quanto ela reflete a população.\n",
        "\n",
        "## Se computarmos o IC e der  95%, por exemplo, significa que se computarmos o IC para diferentes  amostras, 95% das amostras conterão a média da população.\n",
        "\n",
        "## Para computar o IC, é necessário calcular a margem do erro, que expressa a quantidade do erro nos resultados de uma amostra aleatório.\n",
        "\n",
        "\n",
        "\n",
        "---\n",
        "\n",
        "\n",
        "\n",
        "## Exemplo:\n",
        "\n",
        "### Se quisermos saber o peso médio dos alunos em uma escola, coletamos uma amostra para estimar o peso médio de todos os alunos de uma escola.\n",
        "\n",
        "### A média da amostra geralmente não é exatamente igual à média da população.\n",
        "\n",
        "### Um intervalo de confiança é um intervalo de valores acima e abaixo de uma estimativa pontual que captura o parâmetro populacional verdadeiro em algum nível de confiança predeterminado.\n",
        "\n",
        "\n",
        "### Se você deseja ter uma chance de 95% de capturar o parâmetro populacional verdadeiro com uma estimativa pontual e um intervalo de confiança correspondente, defina seu nível de confiança para 95%.\n",
        "\n",
        "### CI = Média + - Margem de erro\n",
        "### onde MOE é Z * sd / sqrt (n) e n é o tamanho da amostra.\n"
      ]
    },
    {
      "cell_type": "markdown",
      "metadata": {
        "id": "rmLTR8F_uRwr"
      },
      "source": [
        "### Notas sobre a API de distribuição de Poisson:\n",
        "\n",
        "#### 1) LOC é o ponto de referência N-dimensional da distribuição, sendo esse centróide escolhido apropriadamente para a função. Para esta aplicação, é simplesmente a extremidade esquerda da distribuição desejada (escalar). Esse padrão é 0 e só é alterado se o seu aplicativo iniciar em algo diferente de 0.\n",
        "#### 2) MU é a média populacional"
      ]
    },
    {
      "cell_type": "markdown",
      "metadata": {
        "id": "SbQKfcuDHEV2"
      },
      "source": [
        "# 5) Testar a diferença entre dois grupos com o Teste **t**\n",
        "\n",
        "\n",
        "###  - O t-test avalia se as médias de dois grupos são estatisticamente diferentes umas das outras.\n",
        "###  - Esta análise é apropriada sempre que você quiser comparar as médias de dois grupos.\n",
        "###  - O t-test é utilizado quando a amostra é pequena.\n"
      ]
    },
    {
      "cell_type": "code",
      "metadata": {
        "id": "xKe4r4XBINPj"
      },
      "source": [
        "import pandas as pd\n",
        "import numpy as np\n",
        "from scipy import stats\n",
        "import seaborn as sns\n",
        "import statsmodels.api as sm\n",
        "from scipy.stats import ttest_1samp, wilcoxon, ttest_ind, mannwhitneyu\n",
        "import scipy.stats as stats\n"
      ],
      "execution_count": null,
      "outputs": []
    },
    {
      "cell_type": "markdown",
      "metadata": {
        "id": "iUkLjgBfKbVW"
      },
      "source": [
        "### Teste t unilateral\n",
        "#### Utilizar t_statistic se a amostra segue uma distribuição T (usado para amostras pequennas)\n",
        "#### Produz o teste T: Serve para inferir suposições sobre a populaçãopor meio da amostra.\n",
        "#### Essas suposições podem ser para verificar se os resultados estatísticos (exemplo média)  de um ou mais grupos são confiáveis (usando o valor_p), ou seja, se mantém se utilizarmos outras amostras.\n",
        "\n",
        "### O resultado de T = (variancia entre os grupos)/(variância dentro do grupo)\n",
        "### quanto maior o T, maior a diferença entre os grupos, quanto menor, menor a diferença\n",
        "### Quanto maior o valor_p (acima de um corte limite 0,05), maior a chance de aceitar H0.\n",
        "\n",
        "\n",
        "---\n",
        "\n",
        "\n",
        "### Exemplo:\n",
        "#### hipótese nula: valor médio esperado do fechamento do pregão para os 100 primeiros registros é 92000\n",
        "#### rejeitar H0 se p for menor que 0.05\n",
        "\n"
      ]
    },
    {
      "cell_type": "code",
      "source": [],
      "metadata": {
        "id": "37qHtfu61Z2L"
      },
      "execution_count": null,
      "outputs": []
    },
    {
      "cell_type": "markdown",
      "metadata": {
        "id": "9NvlDKBvtjdP"
      },
      "source": [
        "## Interpretando os resultados:\n",
        "\n",
        "### Há uma chance de 5.926381948164481e-05 da amostra conter um padrão aleatório, que não correponde ao padrão da população. Ou seja, nesse caso, a chance é muito pequena. Isso significa, que a amostra é estatísticamente relevante e podemos com mais certeza rejeitar a H0, que diz que a média do fechamento do pregão é 92000\n",
        "\n",
        "\n",
        "\n",
        "---\n",
        "\n",
        "\n",
        "\n",
        "### p_value < 0.05 => hipótese alternativa:\n",
        "### dados desviam significativamente da hipótese de que a média é de 9200 ao nível de significância de 5%\n",
        "\n",
        "\n",
        "\n",
        "\n",
        "\n",
        "\n",
        "# > Será que esse foi o melhor teste??\n",
        "\n",
        "\n",
        "\n",
        "\n"
      ]
    },
    {
      "cell_type": "markdown",
      "metadata": {
        "id": "iyBhoAbfA9h6"
      },
      "source": [
        "## O Teste  **t**  podem ser aplicados quando os dados são normalmente distribuídos (são testes paramétricos) .\n",
        "## Então primeiro verifica-se se os dados são normalmente distribuídos.\n"
      ]
    },
    {
      "cell_type": "code",
      "source": [],
      "metadata": {
        "id": "mG4WBy9w1bkj"
      },
      "execution_count": null,
      "outputs": []
    },
    {
      "cell_type": "markdown",
      "metadata": {
        "id": "jv-rb_buBn3E"
      },
      "source": [
        "## Lembrando que o teste de Shapiro testa a hipótose, H0, na qual os dados seguem a distruibuição normal.\n",
        "## O teste Rejeita H0, pois o valor-p é muito pequeno, menor que 0,05.\n",
        "\n",
        "\n",
        "---\n",
        "\n",
        "\n",
        "## Sendo Assim, para o caso de teste em distruibuições não normais, utiliza-se testes NÃO PARAMÉTRICOS, como  o Teste One-Sample:\n",
        "### Testa a média de um grupo contra o conjunto das médias.\n",
        "### Usa-se o teste de WILCOXON"
      ]
    },
    {
      "cell_type": "code",
      "source": [],
      "metadata": {
        "id": "CAAysES61dEm"
      },
      "execution_count": null,
      "outputs": []
    }
  ]
}